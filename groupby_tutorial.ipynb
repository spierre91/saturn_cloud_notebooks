{
 "cells": [
  {
   "cell_type": "code",
   "execution_count": 3,
   "id": "55e03be4-2215-498c-9bf0-34b9ef7a388b",
   "metadata": {
    "execution": {
     "iopub.execute_input": "2022-07-19T23:40:17.444727Z",
     "iopub.status.busy": "2022-07-19T23:40:17.444341Z",
     "iopub.status.idle": "2022-07-19T23:40:17.782321Z",
     "shell.execute_reply": "2022-07-19T23:40:17.781792Z",
     "shell.execute_reply.started": "2022-07-19T23:40:17.444701Z"
    },
    "tags": []
   },
   "outputs": [],
   "source": [
    "import pandas as pd "
   ]
  },
  {
   "cell_type": "code",
   "execution_count": 4,
   "id": "8b1d4b4d-5d43-414f-be33-df13cb847885",
   "metadata": {
    "execution": {
     "iopub.execute_input": "2022-07-19T23:40:19.615205Z",
     "iopub.status.busy": "2022-07-19T23:40:19.614775Z",
     "iopub.status.idle": "2022-07-19T23:40:19.647388Z",
     "shell.execute_reply": "2022-07-19T23:40:19.646856Z",
     "shell.execute_reply.started": "2022-07-19T23:40:19.615181Z"
    },
    "tags": []
   },
   "outputs": [],
   "source": [
    "df = pd.read_csv(\"telco_churn.csv\")"
   ]
  },
  {
   "cell_type": "code",
   "execution_count": 5,
   "id": "300f92aa-3480-4179-be93-9baf85ccb16b",
   "metadata": {
    "execution": {
     "iopub.execute_input": "2022-07-19T23:40:19.801888Z",
     "iopub.status.busy": "2022-07-19T23:40:19.801536Z",
     "iopub.status.idle": "2022-07-19T23:40:19.824506Z",
     "shell.execute_reply": "2022-07-19T23:40:19.823842Z",
     "shell.execute_reply.started": "2022-07-19T23:40:19.801864Z"
    },
    "tags": []
   },
   "outputs": [
    {
     "data": {
      "text/html": [
       "<div>\n",
       "<style scoped>\n",
       "    .dataframe tbody tr th:only-of-type {\n",
       "        vertical-align: middle;\n",
       "    }\n",
       "\n",
       "    .dataframe tbody tr th {\n",
       "        vertical-align: top;\n",
       "    }\n",
       "\n",
       "    .dataframe thead th {\n",
       "        text-align: right;\n",
       "    }\n",
       "</style>\n",
       "<table border=\"1\" class=\"dataframe\">\n",
       "  <thead>\n",
       "    <tr style=\"text-align: right;\">\n",
       "      <th></th>\n",
       "      <th>customerID</th>\n",
       "      <th>gender</th>\n",
       "      <th>SeniorCitizen</th>\n",
       "      <th>Partner</th>\n",
       "      <th>Dependents</th>\n",
       "      <th>tenure</th>\n",
       "      <th>PhoneService</th>\n",
       "      <th>MultipleLines</th>\n",
       "      <th>InternetService</th>\n",
       "      <th>OnlineSecurity</th>\n",
       "      <th>...</th>\n",
       "      <th>DeviceProtection</th>\n",
       "      <th>TechSupport</th>\n",
       "      <th>StreamingTV</th>\n",
       "      <th>StreamingMovies</th>\n",
       "      <th>Contract</th>\n",
       "      <th>PaperlessBilling</th>\n",
       "      <th>PaymentMethod</th>\n",
       "      <th>MonthlyCharges</th>\n",
       "      <th>TotalCharges</th>\n",
       "      <th>Churn</th>\n",
       "    </tr>\n",
       "  </thead>\n",
       "  <tbody>\n",
       "    <tr>\n",
       "      <th>0</th>\n",
       "      <td>7590-VHVEG</td>\n",
       "      <td>Female</td>\n",
       "      <td>0</td>\n",
       "      <td>Yes</td>\n",
       "      <td>No</td>\n",
       "      <td>1</td>\n",
       "      <td>No</td>\n",
       "      <td>No phone service</td>\n",
       "      <td>DSL</td>\n",
       "      <td>No</td>\n",
       "      <td>...</td>\n",
       "      <td>No</td>\n",
       "      <td>No</td>\n",
       "      <td>No</td>\n",
       "      <td>No</td>\n",
       "      <td>Month-to-month</td>\n",
       "      <td>Yes</td>\n",
       "      <td>Electronic check</td>\n",
       "      <td>29.85</td>\n",
       "      <td>29.85</td>\n",
       "      <td>No</td>\n",
       "    </tr>\n",
       "    <tr>\n",
       "      <th>1</th>\n",
       "      <td>5575-GNVDE</td>\n",
       "      <td>Male</td>\n",
       "      <td>0</td>\n",
       "      <td>No</td>\n",
       "      <td>No</td>\n",
       "      <td>34</td>\n",
       "      <td>Yes</td>\n",
       "      <td>No</td>\n",
       "      <td>DSL</td>\n",
       "      <td>Yes</td>\n",
       "      <td>...</td>\n",
       "      <td>Yes</td>\n",
       "      <td>No</td>\n",
       "      <td>No</td>\n",
       "      <td>No</td>\n",
       "      <td>One year</td>\n",
       "      <td>No</td>\n",
       "      <td>Mailed check</td>\n",
       "      <td>56.95</td>\n",
       "      <td>1889.5</td>\n",
       "      <td>No</td>\n",
       "    </tr>\n",
       "    <tr>\n",
       "      <th>2</th>\n",
       "      <td>3668-QPYBK</td>\n",
       "      <td>Male</td>\n",
       "      <td>0</td>\n",
       "      <td>No</td>\n",
       "      <td>No</td>\n",
       "      <td>2</td>\n",
       "      <td>Yes</td>\n",
       "      <td>No</td>\n",
       "      <td>DSL</td>\n",
       "      <td>Yes</td>\n",
       "      <td>...</td>\n",
       "      <td>No</td>\n",
       "      <td>No</td>\n",
       "      <td>No</td>\n",
       "      <td>No</td>\n",
       "      <td>Month-to-month</td>\n",
       "      <td>Yes</td>\n",
       "      <td>Mailed check</td>\n",
       "      <td>53.85</td>\n",
       "      <td>108.15</td>\n",
       "      <td>Yes</td>\n",
       "    </tr>\n",
       "    <tr>\n",
       "      <th>3</th>\n",
       "      <td>7795-CFOCW</td>\n",
       "      <td>Male</td>\n",
       "      <td>0</td>\n",
       "      <td>No</td>\n",
       "      <td>No</td>\n",
       "      <td>45</td>\n",
       "      <td>No</td>\n",
       "      <td>No phone service</td>\n",
       "      <td>DSL</td>\n",
       "      <td>Yes</td>\n",
       "      <td>...</td>\n",
       "      <td>Yes</td>\n",
       "      <td>Yes</td>\n",
       "      <td>No</td>\n",
       "      <td>No</td>\n",
       "      <td>One year</td>\n",
       "      <td>No</td>\n",
       "      <td>Bank transfer (automatic)</td>\n",
       "      <td>42.30</td>\n",
       "      <td>1840.75</td>\n",
       "      <td>No</td>\n",
       "    </tr>\n",
       "    <tr>\n",
       "      <th>4</th>\n",
       "      <td>9237-HQITU</td>\n",
       "      <td>Female</td>\n",
       "      <td>0</td>\n",
       "      <td>No</td>\n",
       "      <td>No</td>\n",
       "      <td>2</td>\n",
       "      <td>Yes</td>\n",
       "      <td>No</td>\n",
       "      <td>Fiber optic</td>\n",
       "      <td>No</td>\n",
       "      <td>...</td>\n",
       "      <td>No</td>\n",
       "      <td>No</td>\n",
       "      <td>No</td>\n",
       "      <td>No</td>\n",
       "      <td>Month-to-month</td>\n",
       "      <td>Yes</td>\n",
       "      <td>Electronic check</td>\n",
       "      <td>70.70</td>\n",
       "      <td>151.65</td>\n",
       "      <td>Yes</td>\n",
       "    </tr>\n",
       "  </tbody>\n",
       "</table>\n",
       "<p>5 rows × 21 columns</p>\n",
       "</div>"
      ],
      "text/plain": [
       "   customerID  gender  SeniorCitizen Partner Dependents  tenure PhoneService  \\\n",
       "0  7590-VHVEG  Female              0     Yes         No       1           No   \n",
       "1  5575-GNVDE    Male              0      No         No      34          Yes   \n",
       "2  3668-QPYBK    Male              0      No         No       2          Yes   \n",
       "3  7795-CFOCW    Male              0      No         No      45           No   \n",
       "4  9237-HQITU  Female              0      No         No       2          Yes   \n",
       "\n",
       "      MultipleLines InternetService OnlineSecurity  ... DeviceProtection  \\\n",
       "0  No phone service             DSL             No  ...               No   \n",
       "1                No             DSL            Yes  ...              Yes   \n",
       "2                No             DSL            Yes  ...               No   \n",
       "3  No phone service             DSL            Yes  ...              Yes   \n",
       "4                No     Fiber optic             No  ...               No   \n",
       "\n",
       "  TechSupport StreamingTV StreamingMovies        Contract PaperlessBilling  \\\n",
       "0          No          No              No  Month-to-month              Yes   \n",
       "1          No          No              No        One year               No   \n",
       "2          No          No              No  Month-to-month              Yes   \n",
       "3         Yes          No              No        One year               No   \n",
       "4          No          No              No  Month-to-month              Yes   \n",
       "\n",
       "               PaymentMethod MonthlyCharges  TotalCharges Churn  \n",
       "0           Electronic check          29.85         29.85    No  \n",
       "1               Mailed check          56.95        1889.5    No  \n",
       "2               Mailed check          53.85        108.15   Yes  \n",
       "3  Bank transfer (automatic)          42.30       1840.75    No  \n",
       "4           Electronic check          70.70        151.65   Yes  \n",
       "\n",
       "[5 rows x 21 columns]"
      ]
     },
     "execution_count": 5,
     "metadata": {},
     "output_type": "execute_result"
    }
   ],
   "source": [
    "df.head()"
   ]
  },
  {
   "cell_type": "code",
   "execution_count": 6,
   "id": "7fd5da03-ea52-4f21-bb38-69842a171ed6",
   "metadata": {
    "execution": {
     "iopub.execute_input": "2022-07-19T23:40:19.984051Z",
     "iopub.status.busy": "2022-07-19T23:40:19.983694Z",
     "iopub.status.idle": "2022-07-19T23:40:19.989950Z",
     "shell.execute_reply": "2022-07-19T23:40:19.989326Z",
     "shell.execute_reply.started": "2022-07-19T23:40:19.984027Z"
    },
    "tags": []
   },
   "outputs": [
    {
     "data": {
      "text/plain": [
       "Male      3555\n",
       "Female    3488\n",
       "Name: gender, dtype: int64"
      ]
     },
     "execution_count": 6,
     "metadata": {},
     "output_type": "execute_result"
    }
   ],
   "source": [
    "\n",
    "df['gender'].value_counts()"
   ]
  },
  {
   "cell_type": "code",
   "execution_count": 7,
   "id": "b8f9dd3d-c2c4-4ad6-ad3b-ad30fec165ff",
   "metadata": {
    "execution": {
     "iopub.execute_input": "2022-07-19T23:40:20.154354Z",
     "iopub.status.busy": "2022-07-19T23:40:20.154003Z",
     "iopub.status.idle": "2022-07-19T23:40:20.162732Z",
     "shell.execute_reply": "2022-07-19T23:40:20.162060Z",
     "shell.execute_reply.started": "2022-07-19T23:40:20.154330Z"
    },
    "tags": []
   },
   "outputs": [
    {
     "data": {
      "text/plain": [
       "gender\n",
       "Female    65.204243\n",
       "Male      64.327482\n",
       "Name: MonthlyCharges, dtype: float64"
      ]
     },
     "execution_count": 7,
     "metadata": {},
     "output_type": "execute_result"
    }
   ],
   "source": [
    "df['MonthlyCharges'] = df['MonthlyCharges'].astype(float)\n",
    "df.groupby('gender')['MonthlyCharges'].mean()"
   ]
  },
  {
   "cell_type": "code",
   "execution_count": 8,
   "id": "cd3d2b6f-1471-4a18-a905-394825a61435",
   "metadata": {
    "execution": {
     "iopub.execute_input": "2022-07-19T23:40:20.334426Z",
     "iopub.status.busy": "2022-07-19T23:40:20.334075Z",
     "iopub.status.idle": "2022-07-19T23:40:20.341985Z",
     "shell.execute_reply": "2022-07-19T23:40:20.341337Z",
     "shell.execute_reply.started": "2022-07-19T23:40:20.334402Z"
    },
    "tags": []
   },
   "outputs": [
    {
     "data": {
      "text/plain": [
       "gender\n",
       "Female    70.65\n",
       "Male      70.10\n",
       "Name: MonthlyCharges, dtype: float64"
      ]
     },
     "execution_count": 8,
     "metadata": {},
     "output_type": "execute_result"
    }
   ],
   "source": [
    "df.groupby('gender')['MonthlyCharges'].median()"
   ]
  },
  {
   "cell_type": "code",
   "execution_count": 9,
   "id": "8d1a2e6e-5792-4123-b2ea-a50fd29b8815",
   "metadata": {
    "execution": {
     "iopub.execute_input": "2022-07-19T23:40:20.505228Z",
     "iopub.status.busy": "2022-07-19T23:40:20.504876Z",
     "iopub.status.idle": "2022-07-19T23:40:20.512429Z",
     "shell.execute_reply": "2022-07-19T23:40:20.511777Z",
     "shell.execute_reply.started": "2022-07-19T23:40:20.505206Z"
    },
    "tags": []
   },
   "outputs": [
    {
     "data": {
      "text/plain": [
       "gender\n",
       "Female    18.40\n",
       "Male      18.25\n",
       "Name: MonthlyCharges, dtype: float64"
      ]
     },
     "execution_count": 9,
     "metadata": {},
     "output_type": "execute_result"
    }
   ],
   "source": [
    "df.groupby('gender')['MonthlyCharges'].min()"
   ]
  },
  {
   "cell_type": "code",
   "execution_count": 10,
   "id": "bfddcd2a-a55c-41ac-a5cd-751d70a7cd76",
   "metadata": {
    "execution": {
     "iopub.execute_input": "2022-07-19T23:40:20.668491Z",
     "iopub.status.busy": "2022-07-19T23:40:20.668139Z",
     "iopub.status.idle": "2022-07-19T23:40:20.675692Z",
     "shell.execute_reply": "2022-07-19T23:40:20.675048Z",
     "shell.execute_reply.started": "2022-07-19T23:40:20.668466Z"
    },
    "tags": []
   },
   "outputs": [
    {
     "data": {
      "text/plain": [
       "gender\n",
       "Female    118.75\n",
       "Male      118.35\n",
       "Name: MonthlyCharges, dtype: float64"
      ]
     },
     "execution_count": 10,
     "metadata": {},
     "output_type": "execute_result"
    }
   ],
   "source": [
    "df.groupby('gender')['MonthlyCharges'].max()"
   ]
  },
  {
   "cell_type": "code",
   "execution_count": 11,
   "id": "362eb918-5007-4f03-84ea-353609d62bc0",
   "metadata": {
    "execution": {
     "iopub.execute_input": "2022-07-19T23:40:20.857915Z",
     "iopub.status.busy": "2022-07-19T23:40:20.857565Z",
     "iopub.status.idle": "2022-07-19T23:40:20.863293Z",
     "shell.execute_reply": "2022-07-19T23:40:20.862647Z",
     "shell.execute_reply.started": "2022-07-19T23:40:20.857892Z"
    },
    "tags": []
   },
   "outputs": [
    {
     "data": {
      "text/plain": [
       "0    5901\n",
       "1    1142\n",
       "Name: SeniorCitizen, dtype: int64"
      ]
     },
     "execution_count": 11,
     "metadata": {},
     "output_type": "execute_result"
    }
   ],
   "source": [
    "df['SeniorCitizen'].value_counts()"
   ]
  },
  {
   "cell_type": "code",
   "execution_count": 12,
   "id": "ea52cdff-cd40-497f-a17d-ee0c6c32992d",
   "metadata": {
    "execution": {
     "iopub.execute_input": "2022-07-19T23:40:21.047220Z",
     "iopub.status.busy": "2022-07-19T23:40:21.046863Z",
     "iopub.status.idle": "2022-07-19T23:40:21.054850Z",
     "shell.execute_reply": "2022-07-19T23:40:21.054185Z",
     "shell.execute_reply.started": "2022-07-19T23:40:21.047196Z"
    },
    "tags": []
   },
   "outputs": [
    {
     "data": {
      "text/plain": [
       "SeniorCitizen\n",
       "0    61.847441\n",
       "1    79.820359\n",
       "Name: MonthlyCharges, dtype: float64"
      ]
     },
     "execution_count": 12,
     "metadata": {},
     "output_type": "execute_result"
    }
   ],
   "source": [
    "df['MonthlyCharges'] = df['MonthlyCharges'].astype(float)\n",
    "df.groupby('SeniorCitizen')['MonthlyCharges'].mean()"
   ]
  },
  {
   "cell_type": "code",
   "execution_count": 13,
   "id": "13ed233d-8a0b-4163-9fbb-dbc3f51cbd51",
   "metadata": {
    "execution": {
     "iopub.execute_input": "2022-07-19T23:40:21.202177Z",
     "iopub.status.busy": "2022-07-19T23:40:21.201828Z",
     "iopub.status.idle": "2022-07-19T23:40:21.208018Z",
     "shell.execute_reply": "2022-07-19T23:40:21.207351Z",
     "shell.execute_reply.started": "2022-07-19T23:40:21.202152Z"
    },
    "tags": []
   },
   "outputs": [
    {
     "data": {
      "text/plain": [
       "No     5174\n",
       "Yes    1869\n",
       "Name: Churn, dtype: int64"
      ]
     },
     "execution_count": 13,
     "metadata": {},
     "output_type": "execute_result"
    }
   ],
   "source": [
    "df['Churn'].value_counts()"
   ]
  },
  {
   "cell_type": "code",
   "execution_count": 14,
   "id": "a208837b-0c26-4e12-811d-592a32afe33b",
   "metadata": {
    "execution": {
     "iopub.execute_input": "2022-07-19T23:40:21.410261Z",
     "iopub.status.busy": "2022-07-19T23:40:21.409909Z",
     "iopub.status.idle": "2022-07-19T23:40:21.417032Z",
     "shell.execute_reply": "2022-07-19T23:40:21.416365Z",
     "shell.execute_reply.started": "2022-07-19T23:40:21.410238Z"
    },
    "tags": []
   },
   "outputs": [
    {
     "data": {
      "text/plain": [
       "SeniorCitizen\n",
       "0    5901\n",
       "1    1142\n",
       "Name: Churn, dtype: int64"
      ]
     },
     "execution_count": 14,
     "metadata": {},
     "output_type": "execute_result"
    }
   ],
   "source": [
    "df.groupby('SeniorCitizen')['Churn'].count()"
   ]
  },
  {
   "cell_type": "code",
   "execution_count": 15,
   "id": "7c0fdae4-5c64-4ac6-be42-16638205315c",
   "metadata": {
    "execution": {
     "iopub.execute_input": "2022-07-19T23:40:21.571475Z",
     "iopub.status.busy": "2022-07-19T23:40:21.571128Z",
     "iopub.status.idle": "2022-07-19T23:40:21.580251Z",
     "shell.execute_reply": "2022-07-19T23:40:21.579605Z",
     "shell.execute_reply.started": "2022-07-19T23:40:21.571451Z"
    },
    "tags": []
   },
   "outputs": [
    {
     "data": {
      "text/plain": [
       "Churn  gender\n",
       "No     Female    2549\n",
       "       Male      2625\n",
       "Yes    Female     939\n",
       "       Male       930\n",
       "Name: Churn, dtype: int64"
      ]
     },
     "execution_count": 15,
     "metadata": {},
     "output_type": "execute_result"
    }
   ],
   "source": [
    "df.groupby(['Churn', 'gender'])['Churn'].count()"
   ]
  },
  {
   "cell_type": "code",
   "execution_count": 16,
   "id": "fa0676ef-3298-49dd-8fcb-f5df8077bde1",
   "metadata": {
    "execution": {
     "iopub.execute_input": "2022-07-19T23:40:21.768906Z",
     "iopub.status.busy": "2022-07-19T23:40:21.768531Z",
     "iopub.status.idle": "2022-07-19T23:40:21.777731Z",
     "shell.execute_reply": "2022-07-19T23:40:21.777067Z",
     "shell.execute_reply.started": "2022-07-19T23:40:21.768881Z"
    },
    "tags": []
   },
   "outputs": [
    {
     "data": {
      "text/plain": [
       "Churn  SeniorCitizen\n",
       "No     0                4508\n",
       "       1                 666\n",
       "Yes    0                1393\n",
       "       1                 476\n",
       "Name: Churn, dtype: int64"
      ]
     },
     "execution_count": 16,
     "metadata": {},
     "output_type": "execute_result"
    }
   ],
   "source": [
    "df.groupby(['Churn', 'SeniorCitizen'])['Churn'].count()"
   ]
  },
  {
   "cell_type": "code",
   "execution_count": 17,
   "id": "863a9373-a962-4106-8192-cae52167ce35",
   "metadata": {
    "execution": {
     "iopub.execute_input": "2022-07-19T23:40:21.950527Z",
     "iopub.status.busy": "2022-07-19T23:40:21.950176Z",
     "iopub.status.idle": "2022-07-19T23:40:21.959932Z",
     "shell.execute_reply": "2022-07-19T23:40:21.959254Z",
     "shell.execute_reply.started": "2022-07-19T23:40:21.950503Z"
    },
    "tags": []
   },
   "outputs": [
    {
     "data": {
      "text/plain": [
       "Churn  SeniorCitizen  gender\n",
       "No     0              Female    2221\n",
       "                      Male      2287\n",
       "       1              Female     328\n",
       "                      Male       338\n",
       "Yes    0              Female     699\n",
       "                      Male       694\n",
       "       1              Female     240\n",
       "                      Male       236\n",
       "Name: Churn, dtype: int64"
      ]
     },
     "execution_count": 17,
     "metadata": {},
     "output_type": "execute_result"
    }
   ],
   "source": [
    "df.groupby(['Churn', 'SeniorCitizen', 'gender'])['Churn'].count()"
   ]
  },
  {
   "cell_type": "code",
   "execution_count": 22,
   "id": "ae3769cc-557a-4413-aae8-2cbc47a58304",
   "metadata": {
    "execution": {
     "iopub.execute_input": "2022-07-19T23:44:46.469153Z",
     "iopub.status.busy": "2022-07-19T23:44:46.468803Z",
     "iopub.status.idle": "2022-07-19T23:44:46.478879Z",
     "shell.execute_reply": "2022-07-19T23:44:46.478415Z",
     "shell.execute_reply.started": "2022-07-19T23:44:46.469130Z"
    },
    "tags": []
   },
   "outputs": [
    {
     "data": {
      "text/plain": [
       "gender\n",
       "Female    0.495258\n",
       "Male      0.504742\n",
       "dtype: float64"
      ]
     },
     "execution_count": 22,
     "metadata": {},
     "output_type": "execute_result"
    }
   ],
   "source": [
    "sum_total = sum(df['tenure'] * df['MonthlyCharges'])\n",
    "df.groupby(['gender']).apply(lambda df,col1,col2: sum(df[col1] * df[col2])/ sum_total, 'tenure', 'MonthlyCharges')"
   ]
  },
  {
   "cell_type": "code",
   "execution_count": 31,
   "id": "244cf7df-dc37-48dc-9fb1-62019ede4744",
   "metadata": {
    "execution": {
     "iopub.execute_input": "2022-07-20T00:25:13.474624Z",
     "iopub.status.busy": "2022-07-20T00:25:13.474266Z",
     "iopub.status.idle": "2022-07-20T00:25:13.488598Z",
     "shell.execute_reply": "2022-07-20T00:25:13.488051Z",
     "shell.execute_reply.started": "2022-07-20T00:25:13.474600Z"
    },
    "tags": []
   },
   "outputs": [
    {
     "data": {
      "text/plain": [
       "gender  SeniorCitizen  InternetService\n",
       "Female  0              DSL                0.141101\n",
       "                       Fiber optic        0.223347\n",
       "                       No                 0.030309\n",
       "        1              DSL                0.016665\n",
       "                       Fiber optic        0.082856\n",
       "                       No                 0.000980\n",
       "Male    0              DSL                0.143927\n",
       "                       Fiber optic        0.231774\n",
       "                       No                 0.029585\n",
       "        1              DSL                0.017326\n",
       "                       Fiber optic        0.080088\n",
       "                       No                 0.002041\n",
       "dtype: float64"
      ]
     },
     "execution_count": 31,
     "metadata": {},
     "output_type": "execute_result"
    }
   ],
   "source": [
    "sum_total = sum(df['tenure'] * df['MonthlyCharges'])\n",
    "df.groupby(['gender', 'SeniorCitizen', 'InternetService']).apply(lambda df,col1,col2: sum(df[col1] * df[col2])/ sum_total, 'tenure', 'MonthlyCharges')"
   ]
  },
  {
   "cell_type": "code",
   "execution_count": 29,
   "id": "649c0100-f6d7-43b8-8e8f-ebe956577a15",
   "metadata": {
    "execution": {
     "iopub.execute_input": "2022-07-19T23:55:45.460154Z",
     "iopub.status.busy": "2022-07-19T23:55:45.459800Z",
     "iopub.status.idle": "2022-07-19T23:55:45.472017Z",
     "shell.execute_reply": "2022-07-19T23:55:45.471530Z",
     "shell.execute_reply.started": "2022-07-19T23:55:45.460129Z"
    },
    "tags": []
   },
   "outputs": [
    {
     "data": {
      "text/html": [
       "<div>\n",
       "<style scoped>\n",
       "    .dataframe tbody tr th:only-of-type {\n",
       "        vertical-align: middle;\n",
       "    }\n",
       "\n",
       "    .dataframe tbody tr th {\n",
       "        vertical-align: top;\n",
       "    }\n",
       "\n",
       "    .dataframe thead th {\n",
       "        text-align: right;\n",
       "    }\n",
       "</style>\n",
       "<table border=\"1\" class=\"dataframe\">\n",
       "  <thead>\n",
       "    <tr style=\"text-align: right;\">\n",
       "      <th>Churn</th>\n",
       "      <th>No</th>\n",
       "      <th>Yes</th>\n",
       "    </tr>\n",
       "    <tr>\n",
       "      <th>gender</th>\n",
       "      <th></th>\n",
       "      <th></th>\n",
       "    </tr>\n",
       "  </thead>\n",
       "  <tbody>\n",
       "    <tr>\n",
       "      <th>Female</th>\n",
       "      <td>0.492656</td>\n",
       "      <td>0.502408</td>\n",
       "    </tr>\n",
       "    <tr>\n",
       "      <th>Male</th>\n",
       "      <td>0.507344</td>\n",
       "      <td>0.497592</td>\n",
       "    </tr>\n",
       "  </tbody>\n",
       "</table>\n",
       "</div>"
      ],
      "text/plain": [
       "Churn         No       Yes\n",
       "gender                    \n",
       "Female  0.492656  0.502408\n",
       "Male    0.507344  0.497592"
      ]
     },
     "execution_count": 29,
     "metadata": {},
     "output_type": "execute_result"
    }
   ],
   "source": [
    "#df_yes = df[df['Churn'] == 'Yes']\n",
    "churn_total = df['Churn'].value_counts()\n",
    "\n",
    "df.groupby(['gender']).apply(lambda df,col1 : df[col1].value_counts()/churn_total, 'Churn')"
   ]
  },
  {
   "cell_type": "code",
   "execution_count": 30,
   "id": "d9fa2dd1-411b-43c9-8fb2-2040fc55459d",
   "metadata": {
    "execution": {
     "iopub.execute_input": "2022-07-19T23:56:56.498341Z",
     "iopub.status.busy": "2022-07-19T23:56:56.497978Z",
     "iopub.status.idle": "2022-07-19T23:56:56.516663Z",
     "shell.execute_reply": "2022-07-19T23:56:56.516175Z",
     "shell.execute_reply.started": "2022-07-19T23:56:56.498316Z"
    }
   },
   "outputs": [
    {
     "data": {
      "text/html": [
       "<div>\n",
       "<style scoped>\n",
       "    .dataframe tbody tr th:only-of-type {\n",
       "        vertical-align: middle;\n",
       "    }\n",
       "\n",
       "    .dataframe tbody tr th {\n",
       "        vertical-align: top;\n",
       "    }\n",
       "\n",
       "    .dataframe thead th {\n",
       "        text-align: right;\n",
       "    }\n",
       "</style>\n",
       "<table border=\"1\" class=\"dataframe\">\n",
       "  <thead>\n",
       "    <tr style=\"text-align: right;\">\n",
       "      <th></th>\n",
       "      <th></th>\n",
       "      <th>Churn</th>\n",
       "      <th>No</th>\n",
       "      <th>Yes</th>\n",
       "    </tr>\n",
       "    <tr>\n",
       "      <th>gender</th>\n",
       "      <th>SeniorCitizen</th>\n",
       "      <th>InternetService</th>\n",
       "      <th></th>\n",
       "      <th></th>\n",
       "    </tr>\n",
       "  </thead>\n",
       "  <tbody>\n",
       "    <tr>\n",
       "      <th rowspan=\"6\" valign=\"top\">Female</th>\n",
       "      <th rowspan=\"3\" valign=\"top\">0</th>\n",
       "      <th>DSL</th>\n",
       "      <td>0.170854</td>\n",
       "      <td>0.096843</td>\n",
       "    </tr>\n",
       "    <tr>\n",
       "      <th>Fiber optic</th>\n",
       "      <td>0.128334</td>\n",
       "      <td>0.248796</td>\n",
       "    </tr>\n",
       "    <tr>\n",
       "      <th>No</th>\n",
       "      <td>0.130073</td>\n",
       "      <td>0.028357</td>\n",
       "    </tr>\n",
       "    <tr>\n",
       "      <th rowspan=\"3\" valign=\"top\">1</th>\n",
       "      <th>DSL</th>\n",
       "      <td>0.016428</td>\n",
       "      <td>0.020332</td>\n",
       "    </tr>\n",
       "    <tr>\n",
       "      <th>Fiber optic</th>\n",
       "      <td>0.043487</td>\n",
       "      <td>0.106474</td>\n",
       "    </tr>\n",
       "    <tr>\n",
       "      <th>No</th>\n",
       "      <td>0.003479</td>\n",
       "      <td>0.001605</td>\n",
       "    </tr>\n",
       "    <tr>\n",
       "      <th rowspan=\"6\" valign=\"top\">Male</th>\n",
       "      <th rowspan=\"3\" valign=\"top\">0</th>\n",
       "      <th>DSL</th>\n",
       "      <td>0.173367</td>\n",
       "      <td>0.107009</td>\n",
       "    </tr>\n",
       "    <tr>\n",
       "      <th>Fiber optic</th>\n",
       "      <td>0.134712</td>\n",
       "      <td>0.234885</td>\n",
       "    </tr>\n",
       "    <tr>\n",
       "      <th>No</th>\n",
       "      <td>0.133939</td>\n",
       "      <td>0.029428</td>\n",
       "    </tr>\n",
       "    <tr>\n",
       "      <th rowspan=\"3\" valign=\"top\">1</th>\n",
       "      <th>DSL</th>\n",
       "      <td>0.018554</td>\n",
       "      <td>0.021402</td>\n",
       "    </tr>\n",
       "    <tr>\n",
       "      <th>Fiber optic</th>\n",
       "      <td>0.041167</td>\n",
       "      <td>0.103799</td>\n",
       "    </tr>\n",
       "    <tr>\n",
       "      <th>No</th>\n",
       "      <td>0.005605</td>\n",
       "      <td>0.001070</td>\n",
       "    </tr>\n",
       "  </tbody>\n",
       "</table>\n",
       "</div>"
      ],
      "text/plain": [
       "Churn                                       No       Yes\n",
       "gender SeniorCitizen InternetService                    \n",
       "Female 0             DSL              0.170854  0.096843\n",
       "                     Fiber optic      0.128334  0.248796\n",
       "                     No               0.130073  0.028357\n",
       "       1             DSL              0.016428  0.020332\n",
       "                     Fiber optic      0.043487  0.106474\n",
       "                     No               0.003479  0.001605\n",
       "Male   0             DSL              0.173367  0.107009\n",
       "                     Fiber optic      0.134712  0.234885\n",
       "                     No               0.133939  0.029428\n",
       "       1             DSL              0.018554  0.021402\n",
       "                     Fiber optic      0.041167  0.103799\n",
       "                     No               0.005605  0.001070"
      ]
     },
     "execution_count": 30,
     "metadata": {},
     "output_type": "execute_result"
    }
   ],
   "source": [
    "df.groupby(['gender', 'SeniorCitizen', 'InternetService']).apply(lambda df,col1 : df[col1].value_counts()/churn_total, 'Churn')"
   ]
  },
  {
   "cell_type": "code",
   "execution_count": 34,
   "id": "34832c39-23eb-40fd-87c6-51122a49f1c1",
   "metadata": {
    "execution": {
     "iopub.execute_input": "2022-07-20T00:26:33.690886Z",
     "iopub.status.busy": "2022-07-20T00:26:33.690402Z",
     "iopub.status.idle": "2022-07-20T00:26:33.706239Z",
     "shell.execute_reply": "2022-07-20T00:26:33.705549Z",
     "shell.execute_reply.started": "2022-07-20T00:26:33.690849Z"
    },
    "tags": []
   },
   "outputs": [
    {
     "data": {
      "text/plain": [
       "gender  SeniorCitizen  InternetService\n",
       "Female  0              DSL                0.141101\n",
       "                       Fiber optic        0.223347\n",
       "                       No                 0.030309\n",
       "        1              DSL                0.016665\n",
       "                       Fiber optic        0.082856\n",
       "dtype: float64"
      ]
     },
     "execution_count": 34,
     "metadata": {},
     "output_type": "execute_result"
    }
   ],
   "source": [
    "df.groupby(['gender', 'SeniorCitizen', 'InternetService']).apply(lambda df,col1,col2: sum(df[col1] * df[col2])/ sum_total, 'tenure', 'MonthlyCharges')"
   ]
  },
  {
   "cell_type": "code",
   "execution_count": null,
   "id": "fe447165-d3fc-47ed-9a05-11e7fc0f8f96",
   "metadata": {},
   "outputs": [],
   "source": [
    "{\n",
    "  \"name\": \"groupby_test\",\n",
    "  \"image_uri\": \"public.ecr.aws/saturncloud/saturn:2022.04.01\",\n",
    "  \"description\": \"\",\n",
    "  \"environment_variables\": {},\n",
    "  \"working_directory\": \"/home/jovyan/workspace\",\n",
    "  \"start_script\": \"\",\n",
    "  \"git_repositories\": [],\n",
    "  \"secrets\": [],\n",
    "  \"jupyter_server\": {\n",
    "    \"instance_type\": \"2xlarge\",\n",
    "    \"disk_space\": \"10Gi\",\n",
    "    \"auto_shutoff\": \"1 hour\",\n",
    "    \"start_ssh\": false,\n",
    "    \"use_spot_instance\": false\n",
    "  },\n",
    "  \"owner\": \"spierre91\",\n",
    "  \"visibility\": \"owner\",\n",
    "  \"schema_version\": \"2022.05.01\"\n",
    "}\n"
   ]
  }
 ],
 "metadata": {
  "kernelspec": {
   "display_name": "saturn (Python 3)",
   "language": "python",
   "name": "python3"
  },
  "language_info": {
   "codemirror_mode": {
    "name": "ipython",
    "version": 3
   },
   "file_extension": ".py",
   "mimetype": "text/x-python",
   "name": "python",
   "nbconvert_exporter": "python",
   "pygments_lexer": "ipython3",
   "version": "3.9.12"
  }
 },
 "nbformat": 4,
 "nbformat_minor": 5
}
